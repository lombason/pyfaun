{
 "cells": [
  {
   "cell_type": "markdown",
   "metadata": {},
   "source": [
    "#### If Else Statements"
   ]
  },
  {
   "cell_type": "code",
   "execution_count": 2,
   "metadata": {},
   "outputs": [
    {
     "name": "stdout",
     "output_type": "stream",
     "text": [
      "it is true\n"
     ]
    }
   ],
   "source": [
    "a = True\n",
    "if a:\n",
    "    print('it is true')"
   ]
  },
  {
   "cell_type": "code",
   "execution_count": 3,
   "metadata": {},
   "outputs": [],
   "source": [
    "a = False\n",
    "if a:\n",
    "    print('it is true')"
   ]
  },
  {
   "cell_type": "code",
   "execution_count": 4,
   "metadata": {},
   "outputs": [
    {
     "name": "stdout",
     "output_type": "stream",
     "text": [
      "it is true\n",
      "also print this line\n"
     ]
    }
   ],
   "source": [
    "a = True\n",
    "if a:\n",
    "    print('it is true')\n",
    "    print('also print this line')\n",
    "print('print this anyway')"
   ]
  },
  {
   "cell_type": "code",
   "execution_count": 6,
   "metadata": {},
   "outputs": [
    {
     "name": "stdout",
     "output_type": "stream",
     "text": [
      "print this anyway\n"
     ]
    }
   ],
   "source": [
    "a = False\n",
    "if a:\n",
    "    print('it is true')\n",
    "    print('also print this line')\n",
    "print('print this anyway')"
   ]
  },
  {
   "cell_type": "code",
   "execution_count": 7,
   "metadata": {},
   "outputs": [
    {
     "name": "stdout",
     "output_type": "stream",
     "text": [
      "it is true\n",
      "also print this line\n",
      "print this anyway\n"
     ]
    }
   ],
   "source": [
    "a = True\n",
    "b = False\n",
    "c = True\n",
    "if a:\n",
    "    print('it is true')\n",
    "    print('also print this line')\n",
    "    if b:\n",
    "        print('both are true')\n",
    "        if c:\n",
    "            print('its all true')\n",
    "else:\n",
    "    print('it is false')\n",
    "print('print this anyway')"
   ]
  },
  {
   "cell_type": "markdown",
   "metadata": {},
   "source": [
    "####  For Loops"
   ]
  },
  {
   "cell_type": "markdown",
   "metadata": {},
   "source": [
    "#### While Loops"
   ]
  },
  {
   "cell_type": "markdown",
   "metadata": {},
   "source": []
  }
 ],
 "metadata": {
  "kernelspec": {
   "display_name": "Python 3",
   "language": "python",
   "name": "python3"
  },
  "language_info": {
   "codemirror_mode": {
    "name": "ipython",
    "version": 3
   },
   "file_extension": ".py",
   "mimetype": "text/x-python",
   "name": "python",
   "nbconvert_exporter": "python",
   "pygments_lexer": "ipython3",
   "version": "3.9.6"
  }
 },
 "nbformat": 4,
 "nbformat_minor": 2
}
